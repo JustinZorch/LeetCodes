{
 "cells": [
  {
   "cell_type": "markdown",
   "id": "7379d6b2",
   "metadata": {},
   "source": [
    "## Given an m x n 2D binary grid grid which represents a map of '1's (land) and '0's (water), return the number of islands.\n",
    "\n",
    "An island is surrounded by water and is formed by connecting adjacent lands horizontally or vertically. You may assume all four edges of the grid are all surrounded by water.\n",
    "\n",
    " "
   ]
  },
  {
   "cell_type": "markdown",
   "id": "d3578232",
   "metadata": {},
   "source": [
    "Constraints:\n",
    "\n",
    "m == grid.length\n",
    "\n",
    "n == grid[i].length\n",
    "\n",
    "1 <= m, n <= 300\n",
    "\n",
    "grid[i][j] is '0' or '1'."
   ]
  },
  {
   "cell_type": "markdown",
   "id": "485b5ae3",
   "metadata": {},
   "source": [
    ">>> import pdb\n",
    ">>> import 200 Number of Islands Amazon.ipynb\n",
    ">>> mymodule.test()"
   ]
  },
  {
   "cell_type": "code",
   "execution_count": 1,
   "id": "5eecd2a3",
   "metadata": {},
   "outputs": [],
   "source": [
    "import pdb"
   ]
  },
  {
   "cell_type": "markdown",
   "id": "73fcf66c",
   "metadata": {},
   "source": [
    "def numIslands(grid):\n",
    "    \n",
    "    rows = len(grid)\n",
    "    cols = len(grid[0])\n",
    "    island = 0\n",
    "    stack = []\n",
    "    \n",
    "    for row in range(rows):\n",
    "        for col in range(cols):\n",
    "            \n",
    "            i = row\n",
    "            j = col\n",
    "            \n",
    "            #check each point and if point has nothing around it add its value and increas the island counter to 2 (new island formed)\n",
    "            #moving from left to right so dont need to check to the right\n",
    "            ## if the ither values around it exist then use the value of it to asign the new isalnd not the counter\n",
    "            \n",
    "            #how to check if a dictionary value exists then use this as the test for an island\n",
    "            \n",
    "    \n",
    "            if grid[row][col] == '1':\n",
    "                \n",
    "                \n",
    "                island += 1\n",
    "                grid[i][j] = island\n",
    "                stack.append([i,j])\n",
    "                \n",
    "                while len(stack) >= 0: #some conditon to move around the island edges and get back to start\n",
    "                     \n",
    "                   \n",
    "                    #checking if there is a value right and then moving to it \n",
    "                    if j+1 < cols and grid[i][j+1] == '1':\n",
    "                        print('value right')\n",
    "                        print(i,j+1)\n",
    "                        stack.append([i,j+1])\n",
    "                        grid[i][j+1] = 'Y'\n",
    "                        j += 1\n",
    "                        print(stack)\n",
    "                    \n",
    "                    #checking if there is a value down and then moving to it  ##i = row j = col   \n",
    "                    elif i+1 < rows and grid[i+1][j] == '1':\n",
    "                        print('value down')\n",
    "                        print(i+1,j)\n",
    "                        stack.append([i+1,j])\n",
    "                        grid[i+1][j] = 'Y'\n",
    "                        i += 1\n",
    "                        print(stack)\n",
    "                        \n",
    "                    #checking if there is a value left and then moving to it    \n",
    "                    elif j-1 >= 0 and grid[i][j-1] == '1':\n",
    "                        print('value left')\n",
    "                        print(i,j-1)\n",
    "                        stack.append([i,j-1])\n",
    "                        grid[i][j-1] = 'Y'\n",
    "                        j -= 1\n",
    "                        print(stack)\n",
    "                    \n",
    "                    #checking if there is a value up and then moving to it\n",
    "                    elif i-1 >= 0 and grid[i-1][j] == '1':\n",
    "                        print('value up')\n",
    "                        print(i-1,j)\n",
    "                        stack.append([i-1,j])\n",
    "                        grid[i-1][j] = 'Y'\n",
    "                        i -= 1\n",
    "                        print(stack)\n",
    "                    \n",
    "                    else:\n",
    "                        if len(stack) == 0:\n",
    "                            break\n",
    "                        else:\n",
    "                            print('else')\n",
    "                            print(stack)\n",
    "                            i,j = stack.pop()\n",
    "                            print(i,j)\n",
    "                                          \n",
    "            \n",
    "    return grid\n",
    "        "
   ]
  },
  {
   "cell_type": "markdown",
   "id": "b686a6cd",
   "metadata": {},
   "source": [
    "## Trying different route\n",
    "\n",
    "doesnt matter\n",
    "a node gets stuck in the middle and unable to trace back\n",
    "\n",
    "usesd a better stackin option\n"
   ]
  },
  {
   "cell_type": "code",
   "execution_count": 88,
   "id": "9db5d135",
   "metadata": {},
   "outputs": [],
   "source": [
    "def numIslands(grid):\n",
    "    \n",
    "        rows = len(grid)\n",
    "        cols = len(grid[0])\n",
    "        island = 0\n",
    "        stack = []\n",
    "\n",
    "        for row in range(rows):\n",
    "            for col in range(cols):\n",
    "\n",
    "                if grid[row][col] == '1':\n",
    "\n",
    "                    i = row\n",
    "                    j = col\n",
    "                    island += 1\n",
    "                    grid[i][j] = '-'\n",
    "                    stack.append([i,j])\n",
    "\n",
    "                    while True: #while stack\n",
    "\n",
    "                        #checking if there is a value right and then moving to it \n",
    "                        if j+1 < cols and grid[i][j+1] == '1':\n",
    "                            stack.append([i,j+1])\n",
    "                            grid[i][j+1] = '-'\n",
    "                            j += 1\n",
    "             \n",
    "                        #checking if there is a value down and then moving to it  \n",
    "                        elif i+1 < rows and grid[i+1][j] == '1':\n",
    "                            stack.append([i+1,j])\n",
    "                            grid[i+1][j] = '-'\n",
    "                            i += 1\n",
    "                 \n",
    "                        #checking if there is a value left and then moving to it    \n",
    "                        elif j-1 >= 0 and grid[i][j-1] == '1':\n",
    "                            stack.append([i,j-1])\n",
    "                            grid[i][j-1] = '-'\n",
    "                            j -= 1\n",
    "                    \n",
    "                        #checking if there is a value up and then moving to it\n",
    "                        elif i-1 >= 0 and grid[i-1][j] == '1':\n",
    "                            stack.append([i-1,j])\n",
    "                            grid[i-1][j] = '-'\n",
    "                            i -= 1\n",
    "                       \n",
    "                        else:\n",
    "                           #pop last postition\n",
    "                            stack.pop()\n",
    "                        \n",
    "                            if len(stack) == 0:\n",
    "                                break\n",
    "                            else:\n",
    "                                #move back to previous position\n",
    "                                i,j = stack[-1]\n",
    "\n",
    "        return island"
   ]
  },
  {
   "cell_type": "code",
   "execution_count": 86,
   "id": "b4d8e711",
   "metadata": {},
   "outputs": [],
   "source": [
    "grid = [\n",
    "    [\"1\",\"1\",\"1\",\"1\",\"0\"],\n",
    "  [\"1\",\"1\",\"0\",\"1\",\"0\"],\n",
    "  [\"1\",\"1\",\"0\",\"0\",\"0\"],\n",
    "  [\"0\",\"0\",\"0\",\"0\",\"0\"]\n",
    "]"
   ]
  },
  {
   "cell_type": "code",
   "execution_count": 93,
   "id": "dbb7c1ef",
   "metadata": {},
   "outputs": [],
   "source": [
    "grid = [\n",
    "  [\"1\",\"1\",\"0\",\"0\",\"0\"],\n",
    "  [\"1\",\"1\",\"0\",\"0\",\"0\"],\n",
    "  [\"0\",\"0\",\"1\",\"0\",\"0\"],\n",
    "  [\"0\",\"0\",\"0\",\"1\",\"1\"]\n",
    "]"
   ]
  },
  {
   "cell_type": "code",
   "execution_count": 74,
   "id": "d557b866",
   "metadata": {},
   "outputs": [],
   "source": [
    "grid = [[\"1\",\"1\",\"0\",\"0\",\"0\"],[\"1\",\"1\",\"0\",\"0\",\"0\"],[\"0\",\"0\",\"1\",\"0\",\"0\"],[\"0\",\"0\",\"0\",\"1\",\"1\"]]"
   ]
  },
  {
   "cell_type": "code",
   "execution_count": 75,
   "id": "49a9832f",
   "metadata": {},
   "outputs": [],
   "source": [
    "grid = [\n",
    "    [\"1\",\"1\",\"1\",\"1\",\"1\",\"0\",\"1\",\"1\",\"1\",\"1\"],\n",
    "     [\"1\",\"0\",\"1\",\"0\",\"1\",\"1\",\"1\",\"1\",\"1\",\"1\"],\n",
    "     [\"0\",\"1\",\"1\",\"1\",\"0\",\"1\",\"1\",\"1\",\"1\",\"1\"],\n",
    "     [\"1\",\"1\",\"0\",\"1\",\"1\",\"0\",\"0\",\"0\",\"0\",\"1\"],\n",
    "    [\"1\",\"0\",\"1\",\"0\",\"1\",\"0\",\"0\",\"1\",\"0\",\"1\"],\n",
    "    [\"1\",\"0\",\"0\",\"1\",\"1\",\"1\",\"0\",\"1\",\"0\",\"0\"],\n",
    "     [\"0\",\"0\",\"1\",\"0\",\"0\",\"1\",\"1\",\"1\",\"1\",\"0\"],\n",
    "     [\"1\",\"0\",\"1\",\"1\",\"1\",\"0\",\"0\",\"1\",\"1\",\"1\"],\n",
    "     [\"1\",\"1\",\"1\",\"1\",\"1\",\"1\",\"1\",\"1\",\"0\",\"1\"],\n",
    "     [\"1\",\"0\",\"1\",\"1\",\"1\",\"1\",\"1\",\"1\",\"1\",\"0\"]\n",
    "    ]"
   ]
  },
  {
   "cell_type": "code",
   "execution_count": 108,
   "id": "aac0969a",
   "metadata": {},
   "outputs": [],
   "source": [
    "grid = [\n",
    "    [\"1\",\"1\",\"1\",\"1\",\"1\",\"1\",\"1\",\"1\",\"1\"],\n",
    "    [\"1\",\"0\",\"0\",\"0\",\"0\",\"0\",\"0\",\"0\",\"1\"],\n",
    "    [\"1\",\"0\",\"1\",\"0\",\"1\",\"0\",\"1\",\"0\",\"1\"],\n",
    "    [\"1\",\"0\",\"1\",\"1\",\"1\",\"1\",\"1\",\"0\",\"1\"],\n",
    "    [\"1\",\"0\",\"1\",\"0\",\"1\",\"0\",\"1\",\"0\",\"1\"],\n",
    "    [\"1\",\"0\",\"0\",\"0\",\"0\",\"0\",\"0\",\"0\",\"1\"],\n",
    "    [\"1\",\"1\",\"1\",\"1\",\"1\",\"1\",\"1\",\"1\",\"1\"]\n",
    "]"
   ]
  },
  {
   "cell_type": "markdown",
   "id": "0c3abebe",
   "metadata": {},
   "source": [
    "grid = [\n",
    "    [\"1\",\"0\",\"1\",\"0\",\"1\"],\n",
    "    [\"1\",\"1\",\"1\",\"1\",\"1\"],\n",
    "    [\"1\",\"0\",\"1\",\"0\",\"1\"]\n",
    "]"
   ]
  },
  {
   "cell_type": "code",
   "execution_count": 77,
   "id": "a8c732c7",
   "metadata": {},
   "outputs": [],
   "source": [
    "keys = numIslands(grid)"
   ]
  },
  {
   "cell_type": "code",
   "execution_count": 78,
   "id": "cfd62061",
   "metadata": {
    "scrolled": true
   },
   "outputs": [
    {
     "data": {
      "text/plain": [
       "2"
      ]
     },
     "execution_count": 78,
     "metadata": {},
     "output_type": "execute_result"
    }
   ],
   "source": [
    "keys"
   ]
  },
  {
   "cell_type": "markdown",
   "id": "d538b8de",
   "metadata": {
    "collapsed": true
   },
   "source": [
    "## Trying The Recursion model"
   ]
  },
  {
   "cell_type": "code",
   "execution_count": 111,
   "id": "b27ca9fa",
   "metadata": {},
   "outputs": [],
   "source": [
    "def numIslands_rec(grid):\n",
    "    \n",
    "    island = 0\n",
    "\n",
    "    for row in range(len(grid)):\n",
    "        for col in range(len(grid[0])):\n",
    "\n",
    "            if grid[row][col] == '1':\n",
    "                island += 1\n",
    "                recursion(grid,row,col)\n",
    "                    \n",
    "    return grid"
   ]
  },
  {
   "cell_type": "code",
   "execution_count": 116,
   "id": "bedda541",
   "metadata": {},
   "outputs": [],
   "source": [
    "def recursion(grid,i,j):\n",
    "    \n",
    "    rows = len(grid)\n",
    "    cols = len(grid[0])\n",
    "    grid[i][j] = '-'\n",
    "    print(i,j)\n",
    "\n",
    "    #checking if there is a value right and then moving to it \n",
    "    if j+1 < cols and grid[i][j+1] == '1':\n",
    "        recursion(grid,i,j+1)\n",
    "\n",
    "    #checking if there is a value down and then moving to it  \n",
    "    elif i+1 < rows and grid[i+1][j] == '1':\n",
    "        recursion(grid,i+1,j)\n",
    "\n",
    "    #checking if there is a value left and then moving to it    \n",
    "    elif j-1 >= 0 and grid[i][j-1] == '1':\n",
    "        recursion(grid,i,j-1)\n",
    " \n",
    "    #checking if there is a value up and then moving to it\n",
    "    elif i-1 >= 0 and grid[i-1][j] == '1':\n",
    "        recursion(grid,i-1,j)\n",
    "\n",
    "\n",
    "\n"
   ]
  },
  {
   "cell_type": "code",
   "execution_count": 117,
   "id": "f7be82de",
   "metadata": {},
   "outputs": [],
   "source": [
    "key = numIslands_rec(grid)"
   ]
  },
  {
   "cell_type": "code",
   "execution_count": 118,
   "id": "e848349c",
   "metadata": {},
   "outputs": [
    {
     "data": {
      "text/plain": [
       "[['-', '-', '-', '-', '-', '-', '-', '-', '-'],\n",
       " ['-', '0', '0', '0', '0', '0', '0', '0', '-'],\n",
       " ['-', '0', '-', '0', '-', '0', '-', '0', '-'],\n",
       " ['-', '0', '-', '-', '-', '-', '-', '0', '-'],\n",
       " ['-', '0', '-', '0', '-', '0', '-', '0', '-'],\n",
       " ['-', '0', '0', '0', '0', '0', '0', '0', '-'],\n",
       " ['-', '-', '-', '-', '-', '-', '-', '-', '-']]"
      ]
     },
     "execution_count": 118,
     "metadata": {},
     "output_type": "execute_result"
    }
   ],
   "source": [
    "key"
   ]
  },
  {
   "cell_type": "code",
   "execution_count": null,
   "id": "545477d3",
   "metadata": {},
   "outputs": [],
   "source": []
  }
 ],
 "metadata": {
  "kernelspec": {
   "display_name": "Python 3",
   "language": "python",
   "name": "python3"
  },
  "language_info": {
   "codemirror_mode": {
    "name": "ipython",
    "version": 3
   },
   "file_extension": ".py",
   "mimetype": "text/x-python",
   "name": "python",
   "nbconvert_exporter": "python",
   "pygments_lexer": "ipython3",
   "version": "3.8.8"
  }
 },
 "nbformat": 4,
 "nbformat_minor": 5
}
