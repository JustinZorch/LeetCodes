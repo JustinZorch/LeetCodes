{
 "cells": [
  {
   "cell_type": "code",
   "execution_count": 1,
   "id": "10adcaf6",
   "metadata": {},
   "outputs": [],
   "source": [
    "def trap_rec(height):\n",
    "    \n",
    "    if len(height) <= 2:\n",
    "        return 0\n",
    "    \n",
    "    max_height = height.index(max(height))\n",
    "   \n",
    "    return rain_left(height[:max_height+1]) + rain_right(height[max_height:])\n",
    "    \n",
    "    \n",
    "def rain_left(heights):\n",
    "    \n",
    "    #removes the current right wall max\n",
    "    local_max = heights.pop()\n",
    "    \n",
    "    #find the next maximum if there is a list else base case return\n",
    "    if len(heights) != 0:\n",
    "        next_max_index = heights.index(max(heights))\n",
    "    else:\n",
    "        return 0\n",
    "    \n",
    "    #base case, max = 0 so no wells can form\n",
    "    if  heights[next_max_index] == 0:\n",
    "        return 0\n",
    "    \n",
    "\n",
    "    #calculate the rain collected\n",
    "    rain = 0\n",
    "    for i in range(next_max_index,len(heights)):\n",
    "        \n",
    "        rain = rain + heights[next_max_index] - heights[i]\n",
    "    \n",
    "    #now call recursion and calculate the next well\n",
    "    return rain + rain_left(heights[:next_max_index+1])\n",
    "    \n",
    "\n",
    "\n",
    "def rain_right(heights):\n",
    "    \n",
    "    #removes the current left wall max\n",
    "    local_max = heights.pop(0)\n",
    "    \n",
    "    #find the next maximum if there is a list else base case return\n",
    "    if len(heights) != 0:\n",
    "        next_max_index = heights.index(max(heights))\n",
    "    else:\n",
    "        return 0\n",
    "    \n",
    "    #base case, max = 0 so no wells can form\n",
    "    if heights[next_max_index] == 0:\n",
    "        return 0 \n",
    "\n",
    "    #calculate the rain collected\n",
    "    rain = 0\n",
    "    for i in range(next_max_index):\n",
    "        \n",
    "        rain = rain + heights[next_max_index] - heights[i]\n",
    "    \n",
    "    #now call recursion and calculate the next well\n",
    "    return rain + rain_right(heights[next_max_index:])"
   ]
  },
  {
   "cell_type": "code",
   "execution_count": 2,
   "id": "1763235f",
   "metadata": {},
   "outputs": [
    {
     "data": {
      "text/plain": [
       "6"
      ]
     },
     "execution_count": 2,
     "metadata": {},
     "output_type": "execute_result"
    }
   ],
   "source": [
    "height = [0,1,0,2,1,0,1,3,2,1,2,1,0]\n",
    "#height = [0,0,0,5,5,0,5,5,0,0,0,0]\n",
    "trap_rec(height)"
   ]
  },
  {
   "cell_type": "code",
   "execution_count": null,
   "id": "60c936b8",
   "metadata": {},
   "outputs": [],
   "source": []
  }
 ],
 "metadata": {
  "kernelspec": {
   "display_name": "Python 3",
   "language": "python",
   "name": "python3"
  },
  "language_info": {
   "codemirror_mode": {
    "name": "ipython",
    "version": 3
   },
   "file_extension": ".py",
   "mimetype": "text/x-python",
   "name": "python",
   "nbconvert_exporter": "python",
   "pygments_lexer": "ipython3",
   "version": "3.8.8"
  }
 },
 "nbformat": 4,
 "nbformat_minor": 5
}
